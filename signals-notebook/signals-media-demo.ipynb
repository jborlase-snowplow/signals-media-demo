{
 "cells": [
  {
   "cell_type": "code",
   "execution_count": 1,
   "id": "57d8fba3",
   "metadata": {},
   "outputs": [
    {
     "name": "stdout",
     "output_type": "stream",
     "text": [
      "Requirement already satisfied: snowplow-signals==0.1.1 in /Users/jamesborlase/Projects/signals-media-demo/signals-media-demo/.venv/lib/python3.13/site-packages (0.1.1)\n",
      "Requirement already satisfied: python-dotenv in /Users/jamesborlase/Projects/signals-media-demo/signals-media-demo/.venv/lib/python3.13/site-packages (1.1.0)\n",
      "Requirement already satisfied: httpx<0.29.0,>=0.28.1 in /Users/jamesborlase/Projects/signals-media-demo/signals-media-demo/.venv/lib/python3.13/site-packages (from snowplow-signals==0.1.1) (0.28.1)\n",
      "Requirement already satisfied: pandas<3.0.0,>=2.2.0 in /Users/jamesborlase/Projects/signals-media-demo/signals-media-demo/.venv/lib/python3.13/site-packages (from snowplow-signals==0.1.1) (2.2.3)\n",
      "Requirement already satisfied: pydantic<3.0.0,>=2.11.4 in /Users/jamesborlase/Projects/signals-media-demo/signals-media-demo/.venv/lib/python3.13/site-packages (from pydantic[email]<3.0.0,>=2.11.4->snowplow-signals==0.1.1) (2.11.4)\n",
      "Requirement already satisfied: pyjwt<3.0.0,>=2.10.1 in /Users/jamesborlase/Projects/signals-media-demo/signals-media-demo/.venv/lib/python3.13/site-packages (from snowplow-signals==0.1.1) (2.10.1)\n",
      "Requirement already satisfied: anyio in /Users/jamesborlase/Projects/signals-media-demo/signals-media-demo/.venv/lib/python3.13/site-packages (from httpx<0.29.0,>=0.28.1->snowplow-signals==0.1.1) (4.9.0)\n",
      "Requirement already satisfied: certifi in /Users/jamesborlase/Projects/signals-media-demo/signals-media-demo/.venv/lib/python3.13/site-packages (from httpx<0.29.0,>=0.28.1->snowplow-signals==0.1.1) (2025.4.26)\n",
      "Requirement already satisfied: httpcore==1.* in /Users/jamesborlase/Projects/signals-media-demo/signals-media-demo/.venv/lib/python3.13/site-packages (from httpx<0.29.0,>=0.28.1->snowplow-signals==0.1.1) (1.0.9)\n",
      "Requirement already satisfied: idna in /Users/jamesborlase/Projects/signals-media-demo/signals-media-demo/.venv/lib/python3.13/site-packages (from httpx<0.29.0,>=0.28.1->snowplow-signals==0.1.1) (3.10)\n",
      "Requirement already satisfied: h11>=0.16 in /Users/jamesborlase/Projects/signals-media-demo/signals-media-demo/.venv/lib/python3.13/site-packages (from httpcore==1.*->httpx<0.29.0,>=0.28.1->snowplow-signals==0.1.1) (0.16.0)\n",
      "Requirement already satisfied: numpy>=1.26.0 in /Users/jamesborlase/Projects/signals-media-demo/signals-media-demo/.venv/lib/python3.13/site-packages (from pandas<3.0.0,>=2.2.0->snowplow-signals==0.1.1) (2.2.6)\n",
      "Requirement already satisfied: python-dateutil>=2.8.2 in /Users/jamesborlase/Projects/signals-media-demo/signals-media-demo/.venv/lib/python3.13/site-packages (from pandas<3.0.0,>=2.2.0->snowplow-signals==0.1.1) (2.9.0.post0)\n",
      "Requirement already satisfied: pytz>=2020.1 in /Users/jamesborlase/Projects/signals-media-demo/signals-media-demo/.venv/lib/python3.13/site-packages (from pandas<3.0.0,>=2.2.0->snowplow-signals==0.1.1) (2025.2)\n",
      "Requirement already satisfied: tzdata>=2022.7 in /Users/jamesborlase/Projects/signals-media-demo/signals-media-demo/.venv/lib/python3.13/site-packages (from pandas<3.0.0,>=2.2.0->snowplow-signals==0.1.1) (2025.2)\n",
      "Requirement already satisfied: annotated-types>=0.6.0 in /Users/jamesborlase/Projects/signals-media-demo/signals-media-demo/.venv/lib/python3.13/site-packages (from pydantic<3.0.0,>=2.11.4->pydantic[email]<3.0.0,>=2.11.4->snowplow-signals==0.1.1) (0.7.0)\n",
      "Requirement already satisfied: pydantic-core==2.33.2 in /Users/jamesborlase/Projects/signals-media-demo/signals-media-demo/.venv/lib/python3.13/site-packages (from pydantic<3.0.0,>=2.11.4->pydantic[email]<3.0.0,>=2.11.4->snowplow-signals==0.1.1) (2.33.2)\n",
      "Requirement already satisfied: typing-extensions>=4.12.2 in /Users/jamesborlase/Projects/signals-media-demo/signals-media-demo/.venv/lib/python3.13/site-packages (from pydantic<3.0.0,>=2.11.4->pydantic[email]<3.0.0,>=2.11.4->snowplow-signals==0.1.1) (4.13.2)\n",
      "Requirement already satisfied: typing-inspection>=0.4.0 in /Users/jamesborlase/Projects/signals-media-demo/signals-media-demo/.venv/lib/python3.13/site-packages (from pydantic<3.0.0,>=2.11.4->pydantic[email]<3.0.0,>=2.11.4->snowplow-signals==0.1.1) (0.4.0)\n",
      "Requirement already satisfied: email-validator>=2.0.0 in /Users/jamesborlase/Projects/signals-media-demo/signals-media-demo/.venv/lib/python3.13/site-packages (from pydantic[email]<3.0.0,>=2.11.4->snowplow-signals==0.1.1) (2.2.0)\n",
      "Requirement already satisfied: dnspython>=2.0.0 in /Users/jamesborlase/Projects/signals-media-demo/signals-media-demo/.venv/lib/python3.13/site-packages (from email-validator>=2.0.0->pydantic[email]<3.0.0,>=2.11.4->snowplow-signals==0.1.1) (2.7.0)\n",
      "Requirement already satisfied: six>=1.5 in /Users/jamesborlase/Projects/signals-media-demo/signals-media-demo/.venv/lib/python3.13/site-packages (from python-dateutil>=2.8.2->pandas<3.0.0,>=2.2.0->snowplow-signals==0.1.1) (1.17.0)\n",
      "Requirement already satisfied: sniffio>=1.1 in /Users/jamesborlase/Projects/signals-media-demo/signals-media-demo/.venv/lib/python3.13/site-packages (from anyio->httpx<0.29.0,>=0.28.1->snowplow-signals==0.1.1) (1.3.1)\n",
      "Note: you may need to restart the kernel to use updated packages.\n"
     ]
    }
   ],
   "source": [
    "pip install snowplow-signals==0.1.1 python-dotenv"
   ]
  },
  {
   "cell_type": "code",
   "execution_count": 6,
   "id": "2bce4fa8",
   "metadata": {},
   "outputs": [],
   "source": [
    "from dotenv import dotenv_values\n",
    "from snowplow_signals import Signals\n",
    "\n",
    "config = dotenv_values(\"../.env.local\")\n",
    "\n",
    "signals = Signals(\n",
    "    api_url=config[\"SIGNALS_API_URL\"],\n",
    "    api_key=config[\"SIGNALS_API_KEY\"],\n",
    "    api_key_id=config[\"SIGNALS_API_KEY_ID\"],\n",
    "    org_id=config[\"SIGNALS_ORG_ID\"],\n",
    ")\n"
   ]
  },
  {
   "cell_type": "code",
   "execution_count": 3,
   "id": "52e9a5e3",
   "metadata": {},
   "outputs": [],
   "source": [
    "from snowplow_signals import Attribute, Event, Criteria, Criterion\n",
    "\n",
    "event_article_details = Event(\n",
    "    vendor=\"com.snplow.sales.aws\",\n",
    "    name=\"article_details\",\n",
    "    version=\"1-0-0\",\n",
    ")\n",
    "\n",
    "def get_category_criteria(category):\n",
    "    return Criteria(\n",
    "        all=[\n",
    "            Criterion(\n",
    "                property=\"unstruct_event_com_snplow_sales_aws_article_details_1:category\",\n",
    "                operator=\"=\",\n",
    "                value=category\n",
    "            )\n",
    "        ]\n",
    "    )\n",
    "\n",
    "\n",
    "page_view_count = Attribute(\n",
    "    name=\"page_view_count\",\n",
    "    type=\"int32\",\n",
    "    events=[event_article_details],\n",
    "    aggregation=\"counter\"\n",
    ")\n",
    "\n",
    "article_read_count = Attribute(\n",
    "    name=\"article_read_count\",\n",
    "    type=\"int32\",\n",
    "    events=[event_article_details],\n",
    "    aggregation=\"counter\"\n",
    ")\n",
    "\n",
    "articles_read = Attribute(\n",
    "    name=\"articles_read\",\n",
    "    type=\"string_list\",\n",
    "    events=[event_article_details],\n",
    "    property=\"unstruct_event_com_snplow_sales_aws_article_details_1:name\",\n",
    "    aggregation=\"unique_list\"\n",
    ")\n",
    "\n",
    "article_last_read = Attribute(\n",
    "    name=\"article_last_read\",\n",
    "    type=\"string\",\n",
    "    events=[event_article_details],\n",
    "    property=\"unstruct_event_com_snplow_sales_aws_article_details_1:name\",\n",
    "    aggregation=\"last\"\n",
    ")\n",
    "\n",
    "article_category_business_read_count = Attribute(\n",
    "    name=\"article_category_business_read_count\",\n",
    "    type=\"int32\",\n",
    "    events=[event_article_details],\n",
    "    criteria=get_category_criteria(\"Business\"),\n",
    "    aggregation=\"counter\"\n",
    ")\n",
    "\n",
    "article_category_ai_read_count = Attribute(\n",
    "    name=\"article_category_ai_read_count\",\n",
    "    type=\"int32\",\n",
    "    events=[event_article_details],\n",
    "    criteria=get_category_criteria(\"AI\"),\n",
    "    aggregation=\"counter\"\n",
    ")\n",
    "\n",
    "article_category_data_read_count = Attribute(\n",
    "    name=\"article_category_data_read_count\",\n",
    "    type=\"int32\",\n",
    "    events=[event_article_details],\n",
    "    criteria=get_category_criteria(\"Data\"),\n",
    "    aggregation=\"counter\"\n",
    ")\n",
    "\n",
    "article_category_technology_read_count = Attribute(\n",
    "    name=\"article_category_technology_read_count\",\n",
    "    type=\"int32\",\n",
    "    events=[event_article_details],\n",
    "    criteria=get_category_criteria(\"Technology\"),\n",
    "    aggregation=\"counter\"\n",
    ")"
   ]
  },
  {
   "cell_type": "code",
   "execution_count": 4,
   "id": "5d806c73",
   "metadata": {},
   "outputs": [],
   "source": [
    "from snowplow_signals import View, Service, domain_userid\n",
    "\n",
    "media_demo_view = View(\n",
    "    name=\"media_demo_view\",\n",
    "    version=2,\n",
    "    entity=domain_userid,\n",
    "    online=True,\n",
    "    owner=\"james.borlase@snowplow.io\",\n",
    "    attributes=[\n",
    "        page_view_count,\n",
    "        article_last_read,\n",
    "        article_read_count,\n",
    "        articles_read,\n",
    "        article_category_business_read_count,\n",
    "        article_category_ai_read_count,\n",
    "        article_category_data_read_count,\n",
    "        article_category_technology_read_count\n",
    "    ]\n",
    ")\n",
    "\n",
    "media_demo_service = Service(\n",
    "    name=\"media_demo_service\",\n",
    "    description=\"Media Demo Service\",\n",
    "    views=[media_demo_view],\n",
    "    owner=\"james.borlase@snowplow.io\"\n",
    ")"
   ]
  },
  {
   "cell_type": "code",
   "execution_count": 7,
   "id": "396ff3af",
   "metadata": {},
   "outputs": [
    {
     "ename": "NameError",
     "evalue": "name 'media_demo_view' is not defined",
     "output_type": "error",
     "traceback": [
      "\u001b[31m---------------------------------------------------------------------------\u001b[39m",
      "\u001b[31mNameError\u001b[39m                                 Traceback (most recent call last)",
      "\u001b[36mCell\u001b[39m\u001b[36m \u001b[39m\u001b[32mIn[7]\u001b[39m\u001b[32m, line 2\u001b[39m\n\u001b[32m      1\u001b[39m data = signals.test(\n\u001b[32m----> \u001b[39m\u001b[32m2\u001b[39m     view=\u001b[43mmedia_demo_view\u001b[49m,\n\u001b[32m      3\u001b[39m     app_ids=[\u001b[33m\"\u001b[39m\u001b[33mwebsite\u001b[39m\u001b[33m\"\u001b[39m],\n\u001b[32m      4\u001b[39m )\n\u001b[32m      5\u001b[39m \u001b[38;5;28mprint\u001b[39m(data)\n",
      "\u001b[31mNameError\u001b[39m: name 'media_demo_view' is not defined"
     ]
    }
   ],
   "source": [
    "data = signals.test(\n",
    "    view=media_demo_view,\n",
    "    app_ids=[\"website\"],\n",
    ")\n",
    "print(data)"
   ]
  },
  {
   "cell_type": "code",
   "execution_count": 6,
   "id": "ebf179c0",
   "metadata": {},
   "outputs": [
    {
     "name": "stdout",
     "output_type": "stream",
     "text": [
      "1 objects applied\n",
      "1 objects applied\n"
     ]
    }
   ],
   "source": [
    "applied = signals.apply([media_demo_view])\n",
    "print(f\"{len(applied)} objects applied\")\n",
    "\n",
    "applied = signals.apply([media_demo_service])\n",
    "print(f\"{len(applied)} objects applied\")"
   ]
  },
  {
   "cell_type": "code",
   "execution_count": 7,
   "id": "63d10837",
   "metadata": {},
   "outputs": [
    {
     "data": {
      "text/plain": [
       "{'domain_userid': ['614587d9-000b-4177-b362-2aaf98a54209'],\n",
       " 'page_view_count': [13],\n",
       " 'article_category_ai_read_count': [0],\n",
       " 'article_category_business_read_count': [0],\n",
       " 'article_category_data_read_count': [2],\n",
       " 'article_read_count': [2],\n",
       " 'article_category_technology_read_count': [0],\n",
       " 'articles_read': [['future-first-party-data']],\n",
       " 'article_last_read': ['future-first-party-data']}"
      ]
     },
     "execution_count": 7,
     "metadata": {},
     "output_type": "execute_result"
    }
   ],
   "source": [
    "response = signals.get_online_attributes(\n",
    "    source=media_demo_service,\n",
    "    identifiers=\"614587d9-000b-4177-b362-2aaf98a54209\"\n",
    ")\n",
    "\n",
    "response.model_dump()['data']"
   ]
  }
 ],
 "metadata": {
  "kernelspec": {
   "display_name": ".venv",
   "language": "python",
   "name": "python3"
  },
  "language_info": {
   "codemirror_mode": {
    "name": "ipython",
    "version": 3
   },
   "file_extension": ".py",
   "mimetype": "text/x-python",
   "name": "python",
   "nbconvert_exporter": "python",
   "pygments_lexer": "ipython3",
   "version": "3.13.4"
  }
 },
 "nbformat": 4,
 "nbformat_minor": 5
}
